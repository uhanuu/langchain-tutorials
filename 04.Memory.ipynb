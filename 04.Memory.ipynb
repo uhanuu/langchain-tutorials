{
 "cells": [
  {
   "cell_type": "code",
   "execution_count": 1,
   "id": "1c8f8d5b",
   "metadata": {},
   "outputs": [
    {
     "data": {
      "text/plain": [
       "True"
      ]
     },
     "execution_count": 1,
     "metadata": {},
     "output_type": "execute_result"
    }
   ],
   "source": [
    "from dotenv import load_dotenv\n",
    "load_dotenv()"
   ]
  },
  {
   "cell_type": "code",
   "execution_count": 2,
   "id": "8efad9db",
   "metadata": {},
   "outputs": [],
   "source": [
    "from langchain_openai import ChatOpenAI\n",
    "from langchain_core.output_parsers import StrOutputParser\n",
    "\n",
    "llm = ChatOpenAI(model=\"gpt-4o-mini\")\n",
    "parser = StrOutputParser()\n",
    "\n",
    "chain = llm | parser"
   ]
  },
  {
   "cell_type": "code",
   "execution_count": 3,
   "id": "30f1ebf0",
   "metadata": {},
   "outputs": [
    {
     "data": {
      "text/plain": [
       "'좋아요! 일본어를 배우는 것은 정말 흥미로운 경험이죠. 학원에서 좋은 수업 많이 듣고 오세요! 무엇을 배우고 싶으신가요?'"
      ]
     },
     "execution_count": 3,
     "metadata": {},
     "output_type": "execute_result"
    }
   ],
   "source": [
    "from langchain_core.messages import HumanMessage, AIMessage, SystemMessage\n",
    "\n",
    "chain.invoke(\n",
    "  [\n",
    "    HumanMessage(content=\"내일은 일본어 학원에 가야지!\"),\n",
    "  ]\n",
    ")"
   ]
  },
  {
   "cell_type": "code",
   "execution_count": 4,
   "id": "49b5c3d8",
   "metadata": {},
   "outputs": [
    {
     "data": {
      "text/plain": [
       "'죄송하지만, 제가 그 정보를 확인할 수는 없습니다. 내일 계획에 대해 더 이야기해주시면 좋을 것 같습니다. 도움이 필요하신가요?'"
      ]
     },
     "execution_count": 4,
     "metadata": {},
     "output_type": "execute_result"
    }
   ],
   "source": [
    "chain.invoke(\n",
    "  [\n",
    "    HumanMessage(content=\"내일 뭐하러 간다고 했지?\")\n",
    "  ]\n",
    ")"
   ]
  },
  {
   "cell_type": "code",
   "execution_count": 5,
   "id": "2e7dd3de",
   "metadata": {},
   "outputs": [
    {
     "data": {
      "text/plain": [
       "'내일 일본어 학원에 간다고 하셨죠! 학원에서 재미있고 유익한 시간 보내세요!'"
      ]
     },
     "execution_count": 5,
     "metadata": {},
     "output_type": "execute_result"
    }
   ],
   "source": [
    "chain.invoke(\n",
    "  [\n",
    "    HumanMessage(content=\"내일은 일본어 학원에 가야지!\"),\n",
    "    AIMessage(content=\"좋아요! 일본어를 배우는 것은 정말 흥미로운 경험이죠. 학원에서 좋은 수업 많이 듣고 오세요! 무엇을 배우고 싶으신가요?\"),\n",
    "    HumanMessage(content=\"내일 뭐하러 간다고 했지?\"),\n",
    "  ]\n",
    ")"
   ]
  }
 ],
 "metadata": {
  "kernelspec": {
   "display_name": ".venv",
   "language": "python",
   "name": "python3"
  },
  "language_info": {
   "codemirror_mode": {
    "name": "ipython",
    "version": 3
   },
   "file_extension": ".py",
   "mimetype": "text/x-python",
   "name": "python",
   "nbconvert_exporter": "python",
   "pygments_lexer": "ipython3",
   "version": "3.13.2"
  }
 },
 "nbformat": 4,
 "nbformat_minor": 5
}
