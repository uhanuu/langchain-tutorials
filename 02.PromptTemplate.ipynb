{
 "cells": [
  {
   "cell_type": "code",
   "execution_count": 2,
   "id": "c045ff44",
   "metadata": {},
   "outputs": [
    {
     "data": {
      "text/plain": [
       "True"
      ]
     },
     "execution_count": 2,
     "metadata": {},
     "output_type": "execute_result"
    }
   ],
   "source": [
    "from dotenv import load_dotenv\n",
    "\n",
    "load_dotenv()"
   ]
  },
  {
   "cell_type": "code",
   "execution_count": null,
   "id": "16af0c5f",
   "metadata": {},
   "outputs": [],
   "source": [
    "from langchain_core.prompts import PromptTemplate\n",
    "\n",
    "template = \"\"\"\n",
    "\n",
    "다음 문장을 {language}로 번역해.\n",
    "---\n",
    "{text}\n",
    "\"\"\"\n",
    "\n",
    "prompt_template = PromptTemplate(\n",
    "  input_variables=[\"language\", \"text\"],\n",
    "  template=template\n",
    ")"
   ]
  },
  {
   "cell_type": "code",
   "execution_count": 4,
   "id": "5e6deb0c",
   "metadata": {},
   "outputs": [
    {
     "data": {
      "text/plain": [
       "'\\n다음 문장을 일본어로 번역해.\\n---\\n오늘은 피자를 먹어야지!\\n'"
      ]
     },
     "execution_count": 4,
     "metadata": {},
     "output_type": "execute_result"
    }
   ],
   "source": [
    "prompt = prompt_template.format(language = \"일본어\", text=\"오늘은 피자를 먹어야지!\")\n",
    "prompt"
   ]
  },
  {
   "cell_type": "code",
   "execution_count": 7,
   "id": "b74fff69",
   "metadata": {},
   "outputs": [
    {
     "data": {
      "text/plain": [
       "'System: 사용자가 입력한 문장을 일본어로 번역해.\\nHuman: 내년에는 다이어트에 성공해야지!'"
      ]
     },
     "execution_count": 7,
     "metadata": {},
     "output_type": "execute_result"
    }
   ],
   "source": [
    "from langchain_core.prompts import ChatPromptTemplate\n",
    "\n",
    "prompt_template = ChatPromptTemplate.from_messages(\n",
    "  [\n",
    "    (\"system\", \"사용자가 입력한 문장을 {language}로 번역해.\"),\n",
    "    (\"human\", \"{text}\")\n",
    "  ]\n",
    ")\n",
    "\n",
    "prompt = prompt_template.format(language = \"일본어\", text=\"내년에는 다이어트에 성공해야지!\")\n",
    "prompt"
   ]
  },
  {
   "cell_type": "code",
   "execution_count": 15,
   "id": "2128bd82",
   "metadata": {},
   "outputs": [],
   "source": [
    "from langchain_openai import ChatOpenAI\n",
    "from langchain_core.output_parsers import StrOutputParser\n",
    "\n",
    "llm = ChatOpenAI(model=\"gpt-4o-mini\")\n",
    "parser = StrOutputParser()\n",
    "\n",
    "chain = prompt_template | llm | parser"
   ]
  },
  {
   "cell_type": "code",
   "execution_count": 14,
   "id": "31870313",
   "metadata": {},
   "outputs": [
    {
     "data": {
      "text/plain": [
       "'来年はダイエットに成功しなきゃ！'"
      ]
     },
     "execution_count": 14,
     "metadata": {},
     "output_type": "execute_result"
    }
   ],
   "source": [
    "response = chain.invoke(\n",
    "  {\n",
    "    \"language\": \"일본어\",\n",
    "    \"text\": \"내년에는 다이어트에 성공해야지!\"\n",
    "  }\n",
    ")\n",
    "\n",
    "response"
   ]
  }
 ],
 "metadata": {
  "kernelspec": {
   "display_name": ".venv",
   "language": "python",
   "name": "python3"
  },
  "language_info": {
   "codemirror_mode": {
    "name": "ipython",
    "version": 3
   },
   "file_extension": ".py",
   "mimetype": "text/x-python",
   "name": "python",
   "nbconvert_exporter": "python",
   "pygments_lexer": "ipython3",
   "version": "3.13.2"
  }
 },
 "nbformat": 4,
 "nbformat_minor": 5
}
