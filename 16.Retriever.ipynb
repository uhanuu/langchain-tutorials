{
 "cells": [
  {
   "cell_type": "code",
   "execution_count": 28,
   "id": "b160dcbd",
   "metadata": {},
   "outputs": [],
   "source": [
    "from langchain_huggingface import HuggingFaceEmbeddings\n",
    "\n",
    "model_name = \"BAAI/bge-m3\"\n",
    "hf_embeddings = HuggingFaceEmbeddings(model_name=model_name)"
   ]
  },
  {
   "cell_type": "code",
   "execution_count": 29,
   "id": "71620bb7",
   "metadata": {},
   "outputs": [
    {
     "name": "stderr",
     "output_type": "stream",
     "text": [
      "Failed to send telemetry event ClientStartEvent: capture() takes 1 positional argument but 3 were given\n"
     ]
    },
    {
     "name": "stderr",
     "output_type": "stream",
     "text": [
      "Failed to send telemetry event ClientCreateCollectionEvent: capture() takes 1 positional argument but 3 were given\n"
     ]
    }
   ],
   "source": [
    "from langchain_chroma import Chroma\n",
    "db = Chroma(persist_directory=\"./news_chroma_db\", embedding_function=hf_embeddings)"
   ]
  },
  {
   "cell_type": "code",
   "execution_count": 30,
   "id": "51e6a5f1",
   "metadata": {},
   "outputs": [
    {
     "data": {
      "text/plain": [
       "[Document(id='052b7790-f59e-4422-8e26-d9c94dd8ae9b', metadata={'source': './docs/news.txt'}, page_content='경제 : 세계적인 인플레이션 압박으로 각국 중앙은행들이 금리 인상에 나섰습니다. 특히 미국 연방준비제도는 예상보다 더 강력한 금리 인상을 단행하며 시장에 충격을 주었습니다. 이로 인해 주식과 채권 시장에서 대규모 매도세가 발생했습니다.'),\n",
       " Document(id='022eafbb-40f4-4bfc-b9f2-3849bbfd8775', metadata={'source': './docs/news.txt'}, page_content='환경 : 지구 온난화로 인한 극단적인 기후 변화가 전 세계적으로 심각한 피해를 초래하고 있습니다. 북극 해빙이 급격히 녹고 있으며, 이로 인해 해수면 상승이 가속화되고 있습니다. 환경 단체들은 즉각적인 탄소 배출 감축이 필요하다고 경고하고 있습니다.'),\n",
       " Document(id='c1ed5768-f510-4f8d-a0dd-c3b1fe4b55b4', metadata={'source': './docs/news.txt'}, page_content='국제 : 아시아-태평양 지역에서의 경제 협력이 강화되고 있습니다. 주요 국가들은 무역 장벽을 낮추고 공동 개발 프로젝트를 추진하며 상호 이익을 추구하고 있습니다. 그러나 중국과 미국 간의 갈등이 여전히 지역 안정에 큰 변수로 작용하고 있습니다.'),\n",
       " Document(id='80c9ed09-b582-4afa-a000-127e5dccd9c3', metadata={'source': './docs/news.txt'}, page_content='보건 : 최근 신종 바이러스의 확산이 일부 국가에서 급격히 증가하고 있습니다. 이에 따라 각국 정부는 예방접종 캠페인과 함께 강력한 방역 조치를 시행하고 있습니다. 보건 전문가들은 지속적인 모니터링과 빠른 대응이 필요하다고 강조하고 있습니다.')]"
      ]
     },
     "execution_count": 30,
     "metadata": {},
     "output_type": "execute_result"
    }
   ],
   "source": [
    "retriever = db.as_retriever() # 검색기\n",
    "\n",
    "result = retriever.invoke(\"각국 중앙은행들의 금리 인상 이유는?\") # 질문과 유사도가 높은 청크를 먼저 찾아오는 작업을 수행\n",
    "result"
   ]
  },
  {
   "cell_type": "code",
   "execution_count": 31,
   "id": "4f5ce703",
   "metadata": {},
   "outputs": [
    {
     "data": {
      "text/plain": [
       "[Document(id='022eafbb-40f4-4bfc-b9f2-3849bbfd8775', metadata={'source': './docs/news.txt'}, page_content='환경 : 지구 온난화로 인한 극단적인 기후 변화가 전 세계적으로 심각한 피해를 초래하고 있습니다. 북극 해빙이 급격히 녹고 있으며, 이로 인해 해수면 상승이 가속화되고 있습니다. 환경 단체들은 즉각적인 탄소 배출 감축이 필요하다고 경고하고 있습니다.'),\n",
       " Document(id='c1ed5768-f510-4f8d-a0dd-c3b1fe4b55b4', metadata={'source': './docs/news.txt'}, page_content='국제 : 아시아-태평양 지역에서의 경제 협력이 강화되고 있습니다. 주요 국가들은 무역 장벽을 낮추고 공동 개발 프로젝트를 추진하며 상호 이익을 추구하고 있습니다. 그러나 중국과 미국 간의 갈등이 여전히 지역 안정에 큰 변수로 작용하고 있습니다.')]"
      ]
     },
     "execution_count": 31,
     "metadata": {},
     "output_type": "execute_result"
    }
   ],
   "source": [
    "retriever = db.as_retriever(search_kwargs={\"k\":2})\n",
    "\n",
    "question = \"해수면이 높아지는 이유는?\"\n",
    "result = retriever.invoke(question)\n",
    "result"
   ]
  },
  {
   "cell_type": "code",
   "execution_count": 32,
   "id": "70405835",
   "metadata": {},
   "outputs": [
    {
     "data": {
      "text/plain": [
       "[(Document(id='022eafbb-40f4-4bfc-b9f2-3849bbfd8775', metadata={'source': './docs/news.txt'}, page_content='환경 : 지구 온난화로 인한 극단적인 기후 변화가 전 세계적으로 심각한 피해를 초래하고 있습니다. 북극 해빙이 급격히 녹고 있으며, 이로 인해 해수면 상승이 가속화되고 있습니다. 환경 단체들은 즉각적인 탄소 배출 감축이 필요하다고 경고하고 있습니다.'),\n",
       "  0.44709926595659133),\n",
       " (Document(id='c1ed5768-f510-4f8d-a0dd-c3b1fe4b55b4', metadata={'source': './docs/news.txt'}, page_content='국제 : 아시아-태평양 지역에서의 경제 협력이 강화되고 있습니다. 주요 국가들은 무역 장벽을 낮추고 공동 개발 프로젝트를 추진하며 상호 이익을 추구하고 있습니다. 그러나 중국과 미국 간의 갈등이 여전히 지역 안정에 큰 변수로 작용하고 있습니다.'),\n",
       "  0.2596614241441957),\n",
       " (Document(id='052b7790-f59e-4422-8e26-d9c94dd8ae9b', metadata={'source': './docs/news.txt'}, page_content='경제 : 세계적인 인플레이션 압박으로 각국 중앙은행들이 금리 인상에 나섰습니다. 특히 미국 연방준비제도는 예상보다 더 강력한 금리 인상을 단행하며 시장에 충격을 주었습니다. 이로 인해 주식과 채권 시장에서 대규모 매도세가 발생했습니다.'),\n",
       "  0.21129113927986987),\n",
       " (Document(id='d25a9c03-678b-4ee6-b6f1-4a1978bd731d', metadata={'source': './docs/news.txt'}, page_content='우주 : NASA가 새롭게 발사한 우주 망원경이 태양계 외곽의 신비로운 행성을 발견했습니다. 과학자들은 이 행성의 대기에서 생명체의 존재를 암시하는 화합물을 발견했다고 발표했습니다. 이 발견은 우주 탐사에 새로운 이정표가 될 것으로 기대됩니다.'),\n",
       "  0.10875185680227295)]"
      ]
     },
     "execution_count": 32,
     "metadata": {},
     "output_type": "execute_result"
    }
   ],
   "source": [
    "result = db.similarity_search_with_relevance_scores(question)\n",
    "result"
   ]
  },
  {
   "cell_type": "code",
   "execution_count": 33,
   "id": "8d0f4c4e",
   "metadata": {},
   "outputs": [
    {
     "data": {
      "text/plain": [
       "[Document(id='022eafbb-40f4-4bfc-b9f2-3849bbfd8775', metadata={'source': './docs/news.txt'}, page_content='환경 : 지구 온난화로 인한 극단적인 기후 변화가 전 세계적으로 심각한 피해를 초래하고 있습니다. 북극 해빙이 급격히 녹고 있으며, 이로 인해 해수면 상승이 가속화되고 있습니다. 환경 단체들은 즉각적인 탄소 배출 감축이 필요하다고 경고하고 있습니다.'),\n",
       " Document(id='c1ed5768-f510-4f8d-a0dd-c3b1fe4b55b4', metadata={'source': './docs/news.txt'}, page_content='국제 : 아시아-태평양 지역에서의 경제 협력이 강화되고 있습니다. 주요 국가들은 무역 장벽을 낮추고 공동 개발 프로젝트를 추진하며 상호 이익을 추구하고 있습니다. 그러나 중국과 미국 간의 갈등이 여전히 지역 안정에 큰 변수로 작용하고 있습니다.')]"
      ]
     },
     "execution_count": 33,
     "metadata": {},
     "output_type": "execute_result"
    }
   ],
   "source": [
    "retriever = db.as_retriever(\n",
    "  search_type=\"similarity_score_threshold\",\n",
    "  search_kwargs={\"score_threshold\": 0.25}\n",
    ")\n",
    "\n",
    "result = retriever.invoke(question)\n",
    "result"
   ]
  },
  {
   "cell_type": "code",
   "execution_count": 34,
   "id": "6a9a3ada",
   "metadata": {},
   "outputs": [
    {
     "name": "stderr",
     "output_type": "stream",
     "text": [
      "Created a chunk of size 52, which is longer than the specified 1\n",
      "Created a chunk of size 46, which is longer than the specified 1\n",
      "Created a chunk of size 43, which is longer than the specified 1\n",
      "Created a chunk of size 47, which is longer than the specified 1\n",
      "Created a chunk of size 41, which is longer than the specified 1\n",
      "Created a chunk of size 41, which is longer than the specified 1\n",
      "Created a chunk of size 47, which is longer than the specified 1\n",
      "Created a chunk of size 38, which is longer than the specified 1\n",
      "Created a chunk of size 40, which is longer than the specified 1\n",
      "Created a chunk of size 41, which is longer than the specified 1\n",
      "Created a chunk of size 38, which is longer than the specified 1\n",
      "Created a chunk of size 46, which is longer than the specified 1\n",
      "Created a chunk of size 36, which is longer than the specified 1\n",
      "Created a chunk of size 35, which is longer than the specified 1\n",
      "Created a chunk of size 45, which is longer than the specified 1\n",
      "Created a chunk of size 39, which is longer than the specified 1\n",
      "Created a chunk of size 47, which is longer than the specified 1\n",
      "Created a chunk of size 47, which is longer than the specified 1\n",
      "Created a chunk of size 43, which is longer than the specified 1\n"
     ]
    },
    {
     "data": {
      "text/plain": [
       "20"
      ]
     },
     "execution_count": 34,
     "metadata": {},
     "output_type": "execute_result"
    }
   ],
   "source": [
    "from langchain_community.document_loaders import TextLoader\n",
    "from langchain_text_splitters import CharacterTextSplitter\n",
    "\n",
    "text_splitter = CharacterTextSplitter(\n",
    "  separator=\"\\n\",\n",
    "  chunk_size=1, # 줄바꿈 기준으로 나누기 위해서 0으로 처리 하려고 했으나 0 이상이어야함\n",
    "  chunk_overlap=0\n",
    ")\n",
    "\n",
    "loader = TextLoader(\"./docs/travel.txt\", encoding=\"utf-8\")\n",
    "documents = loader.load_and_split(text_splitter=text_splitter)\n",
    "len(documents)"
   ]
  },
  {
   "cell_type": "code",
   "execution_count": 35,
   "id": "e8f17af5",
   "metadata": {},
   "outputs": [
    {
     "name": "stderr",
     "output_type": "stream",
     "text": [
      "Failed to send telemetry event ClientStartEvent: capture() takes 1 positional argument but 3 were given\n",
      "Failed to send telemetry event ClientCreateCollectionEvent: capture() takes 1 positional argument but 3 were given\n"
     ]
    }
   ],
   "source": [
    "db = Chroma.from_documents(documents=documents, embedding=hf_embeddings)\n",
    "\n",
    "retriever = db.as_retriever(\n",
    "  search_type=\"similarity_score_threshold\",\n",
    "  search_kwargs={\"score_threshold\": 0.25}\n",
    ")"
   ]
  },
  {
   "cell_type": "code",
   "execution_count": 36,
   "id": "a140f2d0",
   "metadata": {},
   "outputs": [
    {
     "data": {
      "text/plain": [
       "[Document(id='6f1edfe4-09b9-4f2f-bbc5-1617ecbd144f', metadata={'source': './docs/travel.txt'}, page_content='여행 예산을 절약하는 10가지 방법. 적은 비용으로 알차게 여행하는 법.'),\n",
       " Document(id='5990075e-9cb1-4b45-9a29-e1b72c86135a', metadata={'source': './docs/travel.txt'}, page_content='여행 예산을 절약하는 10가지 방법. 적은 비용으로 알차게 여행하는 법.'),\n",
       " Document(id='3ebf3102-7b8a-4a89-97b5-5d3080a8229f', metadata={'source': './docs/travel.txt'}, page_content='여행 예산을 절약하는 10가지 방법. 적은 비용으로 알차게 여행하는 법.'),\n",
       " Document(id='77da032e-eef6-4679-82d5-2b68e8e738a4', metadata={'source': './docs/travel.txt'}, page_content='효율적인 여행 계획 세우기. 예산을 절약하면서도 만족스러운 여행을 하는 방법.')]"
      ]
     },
     "execution_count": 36,
     "metadata": {},
     "output_type": "execute_result"
    }
   ],
   "source": [
    "question = \"이색적인 여행 방법과 예산 절약 팁\"\n",
    "\n",
    "result = retriever.invoke(question)\n",
    "result"
   ]
  },
  {
   "cell_type": "code",
   "execution_count": null,
   "id": "369705d5",
   "metadata": {},
   "outputs": [
    {
     "data": {
      "text/plain": [
       "[Document(id='6f1edfe4-09b9-4f2f-bbc5-1617ecbd144f', metadata={'source': './docs/travel.txt'}, page_content='여행 예산을 절약하는 10가지 방법. 적은 비용으로 알차게 여행하는 법.'),\n",
       " Document(id='5990075e-9cb1-4b45-9a29-e1b72c86135a', metadata={'source': './docs/travel.txt'}, page_content='여행 예산을 절약하는 10가지 방법. 적은 비용으로 알차게 여행하는 법.'),\n",
       " Document(id='3ebf3102-7b8a-4a89-97b5-5d3080a8229f', metadata={'source': './docs/travel.txt'}, page_content='여행 예산을 절약하는 10가지 방법. 적은 비용으로 알차게 여행하는 법.'),\n",
       " Document(id='fc60a725-17d5-47d8-a7f5-7984781c2e3a', metadata={'source': './docs/travel.txt'}, page_content='효율적인 여행 계획 세우기. 예산을 절약하면서도 만족스러운 여행을 하는 방법.'),\n",
       " Document(id='77da032e-eef6-4679-82d5-2b68e8e738a4', metadata={'source': './docs/travel.txt'}, page_content='효율적인 여행 계획 세우기. 예산을 절약하면서도 만족스러운 여행을 하는 방법.')]"
      ]
     },
     "execution_count": 39,
     "metadata": {},
     "output_type": "execute_result"
    }
   ],
   "source": [
    "# MMR : Maximal Marginal Relevance\n",
    "retriever = db.as_retriever(\n",
    "  search_type=\"mmr\",\n",
    "  # fetch_k 전체 문서 중에서 후보 집합으로 선택되는 문서 개수 그 중에서 실제로 최종적으로 사용되기 위해서 반환되는 k 값\n",
    "  # lambda_mult: 0~1 사이로 주면 되는데 유사도와 다양성 사이에 어떤 수준으로 적용할지 (0.5는 중립적으로 0의 가까우면 다양성 1로 가까우면 유사도 우선) \n",
    "  search_kwargs={\"k\": 5, \"fetch_k\": 20, \"lambda_mult\": 0.5} \n",
    ")\n",
    "\n",
    "result = retriever.invoke(question)\n",
    "result"
   ]
  },
  {
   "cell_type": "code",
   "execution_count": null,
   "id": "acb08222",
   "metadata": {},
   "outputs": [],
   "source": []
  }
 ],
 "metadata": {
  "kernelspec": {
   "display_name": ".venv",
   "language": "python",
   "name": "python3"
  },
  "language_info": {
   "name": "python",
   "version": "3.13.2"
  }
 },
 "nbformat": 4,
 "nbformat_minor": 5
}
