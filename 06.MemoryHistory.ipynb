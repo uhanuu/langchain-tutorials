{
 "cells": [
  {
   "cell_type": "code",
   "execution_count": 1,
   "id": "57943dca",
   "metadata": {},
   "outputs": [
    {
     "data": {
      "text/plain": [
       "True"
      ]
     },
     "execution_count": 1,
     "metadata": {},
     "output_type": "execute_result"
    }
   ],
   "source": [
    "from dotenv import load_dotenv\n",
    "load_dotenv()"
   ]
  },
  {
   "cell_type": "code",
   "execution_count": 3,
   "id": "97e7cffb",
   "metadata": {},
   "outputs": [],
   "source": [
    "from langchain_openai import ChatOpenAI\n",
    "from langchain_core.output_parsers import StrOutputParser\n",
    "\n",
    "llm = ChatOpenAI(model='gpt-4o-mini')\n",
    "parser = StrOutputParser()\n",
    "\n",
    "chain = llm | parser"
   ]
  },
  {
   "cell_type": "code",
   "execution_count": 4,
   "id": "b0fbe51a",
   "metadata": {},
   "outputs": [],
   "source": [
    "from langchain_core.chat_history import BaseChatMessageHistory, InMemoryChatMessageHistory\n",
    "from langchain_core.runnables import RunnableWithMessageHistory\n",
    "\n",
    "store = {}\n",
    "\n",
    "def get_session_history(session_id: str) -> BaseChatMessageHistory:\n",
    "  if session_id not in store:\n",
    "    store[session_id] = InMemoryChatMessageHistory()\n",
    "  return store[session_id]\n",
    "\n",
    "with_message_history = RunnableWithMessageHistory(chain, get_session_history)\n",
    "\n",
    "config = {\n",
    "  \"configurable\": {\n",
    "    \"session_id\": \"chat\"\n",
    "  }\n",
    "}"
   ]
  },
  {
   "cell_type": "code",
   "execution_count": 7,
   "id": "e8e1ed94",
   "metadata": {},
   "outputs": [],
   "source": [
    "from langchain_core.messages import SystemMessage, AIMessage, HumanMessage\n",
    "\n",
    "messages = [\n",
    "  SystemMessage(content=\"사용자의 질문에 2문장 이내로 짧게 대답해\"),\n",
    "  HumanMessage(content=\"오늘은 떡볶이를 먹어야지!\"),\n",
    "  AIMessage(content=\"정말 좋은 생각이야. 음료는 무엇으로 할 거야?\"),\n",
    "  HumanMessage(content=\"내일은 수영을 가야지!\"),\n",
    "  AIMessage(content=\"수영이라니, 정말 좋은 운동이야. 수영장은 어디로 다녀?\"),\n",
    "  HumanMessage(content=\"주말에는 영화를 보러 갈 거야!\"),\n",
    "  AIMessage(content=\"주말이 벌써부터 기다려지겠는걸? 보려고 생각해둔 영화가 있어?\"),\n",
    "]"
   ]
  },
  {
   "cell_type": "code",
   "execution_count": 8,
   "id": "01b71585",
   "metadata": {},
   "outputs": [
    {
     "data": {
      "text/plain": [
       "'영화를 보러 간다고 했어! 어떤 영화를 볼 계획이야?'"
      ]
     },
     "execution_count": 8,
     "metadata": {},
     "output_type": "execute_result"
    }
   ],
   "source": [
    "with_message_history.invoke(\n",
    "  messages + [HumanMessage(content=\"주말에 내가 뭐하러 간다고 했지?\")],\n",
    "  config=config\n",
    ")"
   ]
  },
  {
   "cell_type": "code",
   "execution_count": 9,
   "id": "ce5dc768",
   "metadata": {},
   "outputs": [
    {
     "data": {
      "text/plain": [
       "'주말에 무엇을 하러 간다고 했는지 물어봤어. 영화를 보러 간다고 했지!'"
      ]
     },
     "execution_count": 9,
     "metadata": {},
     "output_type": "execute_result"
    }
   ],
   "source": [
    "with_message_history.invoke(\n",
    "  [HumanMessage(content=\"방금 내가 무슨 질문을 했지?\")],\n",
    "  config=config\n",
    ")"
   ]
  },
  {
   "cell_type": "code",
   "execution_count": 10,
   "id": "3f9dc9eb",
   "metadata": {},
   "outputs": [
    {
     "data": {
      "text/plain": [
       "'내일 수영을 간다고 했어. 준비 잘 하고 가!'"
      ]
     },
     "execution_count": 10,
     "metadata": {},
     "output_type": "execute_result"
    }
   ],
   "source": [
    "with_message_history.invoke(\n",
    "  [HumanMessage(content=\"내가 수영은 언제 간다고 했지?\")],\n",
    "  config=config\n",
    ")"
   ]
  },
  {
   "cell_type": "code",
   "execution_count": 12,
   "id": "83de66ac",
   "metadata": {},
   "outputs": [],
   "source": [
    "import langchain\n",
    "langchain.debug = False"
   ]
  },
  {
   "cell_type": "code",
   "execution_count": 13,
   "id": "218efb8b",
   "metadata": {},
   "outputs": [
    {
     "data": {
      "text/plain": [
       "'수영 가는 거 좋네요! 운동도 되고, 스트레스 해소에도 도움이 되죠. 수영 준비물은 다 챙겼나요? 즐겁게 다녀오세요!'"
      ]
     },
     "execution_count": 13,
     "metadata": {},
     "output_type": "execute_result"
    }
   ],
   "source": [
    "config_01 = {\n",
    "  \"configurable\": {\n",
    "    \"session_id\": \"chat_01\"\n",
    "  }\n",
    "}\n",
    "\n",
    "with_message_history.invoke(\n",
    "  [HumanMessage(content=\"내일은 수영을 가야지!\")],\n",
    "  config=config_01\n",
    ")"
   ]
  },
  {
   "cell_type": "code",
   "execution_count": 14,
   "id": "e1ecd070",
   "metadata": {},
   "outputs": [
    {
     "data": {
      "text/plain": [
       "'죄송하지만, 어떤 특정한 상황에 대해 언급하신 건지 조금 더 구체적으로 말씀해 주실 수 있을까요? 제가 더 잘 도와드릴 수 있도록 상황을 설명해 주시면 감사하겠습니다.'"
      ]
     },
     "execution_count": 14,
     "metadata": {},
     "output_type": "execute_result"
    }
   ],
   "source": [
    "config_02 = {\n",
    "  \"configurable\": {\n",
    "    \"session_id\": \"chat_02\"\n",
    "  }\n",
    "}\n",
    "\n",
    "with_message_history.invoke(\n",
    "  [HumanMessage(content=\"언제 간다고 했지?\")],\n",
    "  config=config_02\n",
    ")"
   ]
  },
  {
   "cell_type": "code",
   "execution_count": 15,
   "id": "4f7d3e93",
   "metadata": {},
   "outputs": [
    {
     "data": {
      "text/plain": [
       "'내일 간다고 하셨어요! 수영장에 가는 시간은 정해두셨나요? 어떤 시간에 가실지 계획해보면 좋을 것 같아요!'"
      ]
     },
     "execution_count": 15,
     "metadata": {},
     "output_type": "execute_result"
    }
   ],
   "source": [
    "with_message_history.invoke(\n",
    "  [HumanMessage(content=\"언제 간다고 했지?\")],\n",
    "  config=config_01\n",
    ")"
   ]
  }
 ],
 "metadata": {
  "kernelspec": {
   "display_name": ".venv",
   "language": "python",
   "name": "python3"
  },
  "language_info": {
   "codemirror_mode": {
    "name": "ipython",
    "version": 3
   },
   "file_extension": ".py",
   "mimetype": "text/x-python",
   "name": "python",
   "nbconvert_exporter": "python",
   "pygments_lexer": "ipython3",
   "version": "3.13.2"
  }
 },
 "nbformat": 4,
 "nbformat_minor": 5
}
