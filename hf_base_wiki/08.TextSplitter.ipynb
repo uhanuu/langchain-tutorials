{
 "cells": [
  {
   "cell_type": "code",
   "execution_count": 2,
   "id": "b5afc9a1",
   "metadata": {},
   "outputs": [],
   "source": [
    "from langchain_community.document_loaders import WikipediaLoader\n",
    "\n",
    "loader = WikipediaLoader(query=\"지진\", lang=\"ko\", load_max_docs=1, doc_content_chars_max=40000)\n",
    "docs = loader.load()"
   ]
  },
  {
   "cell_type": "code",
   "execution_count": 14,
   "id": "fca98d1c",
   "metadata": {},
   "outputs": [
    {
     "name": "stderr",
     "output_type": "stream",
     "text": [
      "Created a chunk of size 689, which is longer than the specified 100\n",
      "Created a chunk of size 547, which is longer than the specified 100\n",
      "Created a chunk of size 733, which is longer than the specified 100\n",
      "Created a chunk of size 329, which is longer than the specified 100\n",
      "Created a chunk of size 704, which is longer than the specified 100\n",
      "Created a chunk of size 1268, which is longer than the specified 100\n",
      "Created a chunk of size 173, which is longer than the specified 100\n",
      "Created a chunk of size 357, which is longer than the specified 100\n",
      "Created a chunk of size 519, which is longer than the specified 100\n",
      "Created a chunk of size 1006, which is longer than the specified 100\n",
      "Created a chunk of size 1451, which is longer than the specified 100\n",
      "Created a chunk of size 2325, which is longer than the specified 100\n",
      "Created a chunk of size 1052, which is longer than the specified 100\n",
      "Created a chunk of size 821, which is longer than the specified 100\n",
      "Created a chunk of size 1213, which is longer than the specified 100\n",
      "Created a chunk of size 613, which is longer than the specified 100\n",
      "Created a chunk of size 1260, which is longer than the specified 100\n",
      "Created a chunk of size 1317, which is longer than the specified 100\n",
      "Created a chunk of size 308, which is longer than the specified 100\n",
      "Created a chunk of size 375, which is longer than the specified 100\n",
      "Created a chunk of size 1082, which is longer than the specified 100\n",
      "Created a chunk of size 304, which is longer than the specified 100\n",
      "Created a chunk of size 1998, which is longer than the specified 100\n",
      "Created a chunk of size 388, which is longer than the specified 100\n",
      "Created a chunk of size 333, which is longer than the specified 100\n",
      "Created a chunk of size 203, which is longer than the specified 100\n",
      "Created a chunk of size 250, which is longer than the specified 100\n",
      "Created a chunk of size 1141, which is longer than the specified 100\n",
      "Created a chunk of size 342, which is longer than the specified 100\n",
      "Created a chunk of size 643, which is longer than the specified 100\n",
      "Created a chunk of size 912, which is longer than the specified 100\n",
      "Created a chunk of size 496, which is longer than the specified 100\n",
      "Created a chunk of size 321, which is longer than the specified 100\n",
      "Created a chunk of size 185, which is longer than the specified 100\n",
      "Created a chunk of size 864, which is longer than the specified 100\n",
      "Created a chunk of size 867, which is longer than the specified 100\n",
      "Created a chunk of size 216, which is longer than the specified 100\n",
      "Created a chunk of size 209, which is longer than the specified 100\n",
      "Created a chunk of size 111, which is longer than the specified 100\n",
      "Created a chunk of size 174, which is longer than the specified 100\n",
      "Created a chunk of size 463, which is longer than the specified 100\n",
      "Created a chunk of size 243, which is longer than the specified 100\n",
      "Created a chunk of size 894, which is longer than the specified 100\n",
      "Created a chunk of size 1014, which is longer than the specified 100\n",
      "Created a chunk of size 663, which is longer than the specified 100\n",
      "Created a chunk of size 381, which is longer than the specified 100\n",
      "Created a chunk of size 658, which is longer than the specified 100\n",
      "Created a chunk of size 204, which is longer than the specified 100\n",
      "Created a chunk of size 908, which is longer than the specified 100\n",
      "Created a chunk of size 746, which is longer than the specified 100\n",
      "Created a chunk of size 203, which is longer than the specified 100\n",
      "Created a chunk of size 606, which is longer than the specified 100\n"
     ]
    }
   ],
   "source": [
    "from langchain_text_splitters import CharacterTextSplitter\n",
    "\n",
    "text_splitter = CharacterTextSplitter(\n",
    "  separator=\"\\n\\n\",\n",
    "  chunk_size=100,\n",
    "  chunk_overlap=20,\n",
    "  length_function=len,\n",
    "  is_separator_regex=False # separator가 정규식인 경우 지금은 그냥 문자열 이기 때문에 False\n",
    ")\n",
    "\n",
    "texts = text_splitter.split_documents(documents=docs)"
   ]
  },
  {
   "cell_type": "code",
   "execution_count": 15,
   "id": "1154a462",
   "metadata": {},
   "outputs": [
    {
     "name": "stdout",
     "output_type": "stream",
     "text": [
      "89\n",
      "Chunk Size: 689, Page Content: 지진(地震, 영어: earthquake, quake, tremor, temblor)은 지구 암석권 내부에서 갑작스럽게 에너지를 방출하면서 지진파를 만들어내며 지구 표면까지 흔들리는\n",
      "----------------------------------------------------------------------\n",
      "Chunk Size: 546, Page Content: == 어원 ==\n",
      "영어에서 'earthquake'는 13세기 'eorthequakynge'라는 중세 영어 단어에서 유래한 말로, \"땅에서 일어난 흔들림\"이라는 'quavinge of\n",
      "----------------------------------------------------------------------\n",
      "Chunk Size: 732, Page Content: == 특성 ==\n",
      "지질구조학적 지진은 단층면을 따라 파괴가 전파될 수 있을 정도로 충분한 탄성 변형 에너지가 축적된 지구 어디서나 발생할 수 있다. 단층면은 단층면 표면에 마찰 저항\n",
      "----------------------------------------------------------------------\n",
      "Chunk Size: 14, Page Content: === 진원과 진앙 ===\n",
      "----------------------------------------------------------------------\n",
      "Chunk Size: 329, Page Content: 지진은 지구 내부의 에너지가 축적되어 암석의 파열이 일어나는 한계를 넘어설 때 일어나는데, 암반이 파열되는 전체 영역을 진원역이라 한다. 규모 M8을 넘는 거대지진의 경우 진원역의\n",
      "----------------------------------------------------------------------\n"
     ]
    }
   ],
   "source": [
    "print(len(texts))\n",
    "\n",
    "for text in texts[:5]:\n",
    "  print(f\"Chunk Size: {len(text.page_content)}, Page Content: {text.page_content[:100]}\")\n",
    "  print(\"-\" * 70)"
   ]
  },
  {
   "cell_type": "code",
   "execution_count": 16,
   "id": "6104e90d",
   "metadata": {},
   "outputs": [],
   "source": [
    "from langchain_text_splitters import RecursiveCharacterTextSplitter\n",
    "\n",
    "text_splitter = RecursiveCharacterTextSplitter(\n",
    "  separators=[\"\\n\\n\", \"\\n\", \" \", \"\"], # 처음 \\n\\n 구분차로 분리하고 \\n으로 한번 더짜르고 그다음 공백을 가지고 자르고 그다음 글자수 단위로 자른다. (재귀적으로 잘라나가는 것)\n",
    "  chunk_size=100,\n",
    "  chunk_overlap=20,\n",
    "  length_function=len,\n",
    "  is_separator_regex=False # separator가 정규식인 경우 지금은 그냥 문자열 이기 때문에 False\n",
    ")\n",
    "\n",
    "texts = text_splitter.split_documents(docs)"
   ]
  },
  {
   "cell_type": "code",
   "execution_count": 18,
   "id": "3084cf64",
   "metadata": {},
   "outputs": [
    {
     "name": "stdout",
     "output_type": "stream",
     "text": [
      "531\n",
      "Chunk Size: 100, Page Content: 지진(地震, 영어: earthquake, quake, tremor, temblor)은 지구 암석권 내부에서 갑작스럽게 에너지를 방출하면서 지진파를 만들어내며 지구 표면까지 흔들리는\n",
      "----------------------------------------------------------------------\n",
      "Chunk Size: 98, Page Content: 만들어내며 지구 표면까지 흔들리는 현상이다. 지진은 느낄 수 없을 정도로 약한 크기서부터 사람과 여러 물건을 공중으로 들어올리고 도시 전체를 파괴할 수 있을 정도로 매우 격렬한\n",
      "----------------------------------------------------------------------\n",
      "Chunk Size: 96, Page Content: 파괴할 수 있을 정도로 매우 격렬한 크기의 지진까지 다양한 강도로 일어난다. 특정 지역의 지진 활동(seismic activity)이란 특정 기간 그 지역에서 발생한 지진의\n",
      "----------------------------------------------------------------------\n",
      "Chunk Size: 95, Page Content: 기간 그 지역에서 발생한 지진의 빈도, 유형, 크기를 말한다. 지진에는 지표면의 진동 외에도 정상 미끄러짐이나 슬로우 슬립 같은 비진동성 암반의 미끄러짐 현상도 포함된다.\n",
      "----------------------------------------------------------------------\n",
      "Chunk Size: 98, Page Content: 지진은 지구 표면의 땅을 흔들고 암반의 위치를 옮기거나 변성시켜 휘어지게 만든다. 큰 지진의 진앙이 바다 해역 상에 있다면 해저 지형의 변화로 쓰나미가 일어날 수도 있다. 또한\n",
      "----------------------------------------------------------------------\n",
      "Chunk Size: 76, Page Content: 쓰나미가 일어날 수도 있다. 또한 지진으로 산사태나 액상화 현상 같은 2차 피해가 일어날 수 있으며, 일부 지진은 화산 활동을 일으킨다.\n",
      "----------------------------------------------------------------------\n",
      "Chunk Size: 99, Page Content: '지진'이라는 용어는 지진파를 일으키는 자연적, 인공적인 지진학적 현상을 통틀어 일컫는다. 대부분의 지진은 단층파열로 일어나며 그 외에도 화산 활동, 산사태, 지뢰 폭발, 핵실험\n",
      "----------------------------------------------------------------------\n",
      "Chunk Size: 96, Page Content: 활동, 산사태, 지뢰 폭발, 핵실험 등 여러 자연적, 인공적 원인으로도 발생한다. 지진이 일어날 때 처음으로 단층이 파열되어 흔들림이 시작된 지점을 진원이라고 하고, 진원의\n",
      "----------------------------------------------------------------------\n",
      "Chunk Size: 37, Page Content: 지점을 진원이라고 하고, 진원의 지표면상 지점을 진앙이라고 부른다.\n",
      "----------------------------------------------------------------------\n",
      "Chunk Size: 8, Page Content: == 어원 ==\n",
      "----------------------------------------------------------------------\n"
     ]
    }
   ],
   "source": [
    "print(len(texts))\n",
    "\n",
    "for text in texts[:10]:\n",
    "  print(f\"Chunk Size: {len(text.page_content)}, Page Content: {text.page_content[:100]}\")\n",
    "  print(\"-\" * 70)"
   ]
  },
  {
   "cell_type": "code",
   "execution_count": null,
   "id": "fea9dc0f",
   "metadata": {},
   "outputs": [
    {
     "name": "stdout",
     "output_type": "stream",
     "text": [
      "Collecting langchain_experimental==0.3.4\n",
      "  Downloading langchain_experimental-0.3.4-py3-none-any.whl.metadata (1.7 kB)\n",
      "Requirement already satisfied: langchain-community<0.4.0,>=0.3.0 in ./.venv/lib/python3.13/site-packages (from langchain_experimental==0.3.4) (0.3.18)\n",
      "Requirement already satisfied: langchain-core<0.4.0,>=0.3.28 in ./.venv/lib/python3.13/site-packages (from langchain_experimental==0.3.4) (0.3.76)\n",
      "Requirement already satisfied: langchain<1.0.0,>=0.3.19 in ./.venv/lib/python3.13/site-packages (from langchain-community<0.4.0,>=0.3.0->langchain_experimental==0.3.4) (0.3.19)\n",
      "Requirement already satisfied: SQLAlchemy<3,>=1.4 in ./.venv/lib/python3.13/site-packages (from langchain-community<0.4.0,>=0.3.0->langchain_experimental==0.3.4) (2.0.43)\n",
      "Requirement already satisfied: requests<3,>=2 in ./.venv/lib/python3.13/site-packages (from langchain-community<0.4.0,>=0.3.0->langchain_experimental==0.3.4) (2.32.5)\n",
      "Requirement already satisfied: PyYAML>=5.3 in ./.venv/lib/python3.13/site-packages (from langchain-community<0.4.0,>=0.3.0->langchain_experimental==0.3.4) (6.0.2)\n",
      "Requirement already satisfied: aiohttp<4.0.0,>=3.8.3 in ./.venv/lib/python3.13/site-packages (from langchain-community<0.4.0,>=0.3.0->langchain_experimental==0.3.4) (3.12.15)\n",
      "Requirement already satisfied: tenacity!=8.4.0,<10,>=8.1.0 in ./.venv/lib/python3.13/site-packages (from langchain-community<0.4.0,>=0.3.0->langchain_experimental==0.3.4) (9.1.2)\n",
      "Requirement already satisfied: dataclasses-json<0.7,>=0.5.7 in ./.venv/lib/python3.13/site-packages (from langchain-community<0.4.0,>=0.3.0->langchain_experimental==0.3.4) (0.6.7)\n",
      "Requirement already satisfied: pydantic-settings<3.0.0,>=2.4.0 in ./.venv/lib/python3.13/site-packages (from langchain-community<0.4.0,>=0.3.0->langchain_experimental==0.3.4) (2.10.1)\n",
      "Requirement already satisfied: langsmith<0.4,>=0.1.125 in ./.venv/lib/python3.13/site-packages (from langchain-community<0.4.0,>=0.3.0->langchain_experimental==0.3.4) (0.3.45)\n",
      "Requirement already satisfied: httpx-sse<1.0.0,>=0.4.0 in ./.venv/lib/python3.13/site-packages (from langchain-community<0.4.0,>=0.3.0->langchain_experimental==0.3.4) (0.4.1)\n",
      "Requirement already satisfied: numpy<3,>=1.26.2 in ./.venv/lib/python3.13/site-packages (from langchain-community<0.4.0,>=0.3.0->langchain_experimental==0.3.4) (2.3.3)\n",
      "Requirement already satisfied: aiohappyeyeballs>=2.5.0 in ./.venv/lib/python3.13/site-packages (from aiohttp<4.0.0,>=3.8.3->langchain-community<0.4.0,>=0.3.0->langchain_experimental==0.3.4) (2.6.1)\n",
      "Requirement already satisfied: aiosignal>=1.4.0 in ./.venv/lib/python3.13/site-packages (from aiohttp<4.0.0,>=3.8.3->langchain-community<0.4.0,>=0.3.0->langchain_experimental==0.3.4) (1.4.0)\n",
      "Requirement already satisfied: attrs>=17.3.0 in ./.venv/lib/python3.13/site-packages (from aiohttp<4.0.0,>=3.8.3->langchain-community<0.4.0,>=0.3.0->langchain_experimental==0.3.4) (25.3.0)\n",
      "Requirement already satisfied: frozenlist>=1.1.1 in ./.venv/lib/python3.13/site-packages (from aiohttp<4.0.0,>=3.8.3->langchain-community<0.4.0,>=0.3.0->langchain_experimental==0.3.4) (1.7.0)\n",
      "Requirement already satisfied: multidict<7.0,>=4.5 in ./.venv/lib/python3.13/site-packages (from aiohttp<4.0.0,>=3.8.3->langchain-community<0.4.0,>=0.3.0->langchain_experimental==0.3.4) (6.6.4)\n",
      "Requirement already satisfied: propcache>=0.2.0 in ./.venv/lib/python3.13/site-packages (from aiohttp<4.0.0,>=3.8.3->langchain-community<0.4.0,>=0.3.0->langchain_experimental==0.3.4) (0.3.2)\n",
      "Requirement already satisfied: yarl<2.0,>=1.17.0 in ./.venv/lib/python3.13/site-packages (from aiohttp<4.0.0,>=3.8.3->langchain-community<0.4.0,>=0.3.0->langchain_experimental==0.3.4) (1.20.1)\n",
      "Requirement already satisfied: marshmallow<4.0.0,>=3.18.0 in ./.venv/lib/python3.13/site-packages (from dataclasses-json<0.7,>=0.5.7->langchain-community<0.4.0,>=0.3.0->langchain_experimental==0.3.4) (3.26.1)\n",
      "Requirement already satisfied: typing-inspect<1,>=0.4.0 in ./.venv/lib/python3.13/site-packages (from dataclasses-json<0.7,>=0.5.7->langchain-community<0.4.0,>=0.3.0->langchain_experimental==0.3.4) (0.9.0)\n",
      "Requirement already satisfied: langchain-text-splitters<1.0.0,>=0.3.6 in ./.venv/lib/python3.13/site-packages (from langchain<1.0.0,>=0.3.19->langchain-community<0.4.0,>=0.3.0->langchain_experimental==0.3.4) (0.3.11)\n",
      "Requirement already satisfied: pydantic<3.0.0,>=2.7.4 in ./.venv/lib/python3.13/site-packages (from langchain<1.0.0,>=0.3.19->langchain-community<0.4.0,>=0.3.0->langchain_experimental==0.3.4) (2.11.9)\n",
      "Requirement already satisfied: jsonpatch<2.0,>=1.33 in ./.venv/lib/python3.13/site-packages (from langchain-core<0.4.0,>=0.3.28->langchain_experimental==0.3.4) (1.33)\n",
      "Requirement already satisfied: typing-extensions>=4.7 in ./.venv/lib/python3.13/site-packages (from langchain-core<0.4.0,>=0.3.28->langchain_experimental==0.3.4) (4.15.0)\n",
      "Requirement already satisfied: packaging>=23.2 in ./.venv/lib/python3.13/site-packages (from langchain-core<0.4.0,>=0.3.28->langchain_experimental==0.3.4) (25.0)\n",
      "Requirement already satisfied: jsonpointer>=1.9 in ./.venv/lib/python3.13/site-packages (from jsonpatch<2.0,>=1.33->langchain-core<0.4.0,>=0.3.28->langchain_experimental==0.3.4) (3.0.0)\n",
      "Requirement already satisfied: httpx<1,>=0.23.0 in ./.venv/lib/python3.13/site-packages (from langsmith<0.4,>=0.1.125->langchain-community<0.4.0,>=0.3.0->langchain_experimental==0.3.4) (0.28.1)\n",
      "Requirement already satisfied: orjson<4.0.0,>=3.9.14 in ./.venv/lib/python3.13/site-packages (from langsmith<0.4,>=0.1.125->langchain-community<0.4.0,>=0.3.0->langchain_experimental==0.3.4) (3.11.3)\n",
      "Requirement already satisfied: requests-toolbelt<2.0.0,>=1.0.0 in ./.venv/lib/python3.13/site-packages (from langsmith<0.4,>=0.1.125->langchain-community<0.4.0,>=0.3.0->langchain_experimental==0.3.4) (1.0.0)\n",
      "Requirement already satisfied: zstandard<0.24.0,>=0.23.0 in ./.venv/lib/python3.13/site-packages (from langsmith<0.4,>=0.1.125->langchain-community<0.4.0,>=0.3.0->langchain_experimental==0.3.4) (0.23.0)\n",
      "Requirement already satisfied: anyio in ./.venv/lib/python3.13/site-packages (from httpx<1,>=0.23.0->langsmith<0.4,>=0.1.125->langchain-community<0.4.0,>=0.3.0->langchain_experimental==0.3.4) (4.10.0)\n",
      "Requirement already satisfied: certifi in ./.venv/lib/python3.13/site-packages (from httpx<1,>=0.23.0->langsmith<0.4,>=0.1.125->langchain-community<0.4.0,>=0.3.0->langchain_experimental==0.3.4) (2025.8.3)\n",
      "Requirement already satisfied: httpcore==1.* in ./.venv/lib/python3.13/site-packages (from httpx<1,>=0.23.0->langsmith<0.4,>=0.1.125->langchain-community<0.4.0,>=0.3.0->langchain_experimental==0.3.4) (1.0.9)\n",
      "Requirement already satisfied: idna in ./.venv/lib/python3.13/site-packages (from httpx<1,>=0.23.0->langsmith<0.4,>=0.1.125->langchain-community<0.4.0,>=0.3.0->langchain_experimental==0.3.4) (3.10)\n",
      "Requirement already satisfied: h11>=0.16 in ./.venv/lib/python3.13/site-packages (from httpcore==1.*->httpx<1,>=0.23.0->langsmith<0.4,>=0.1.125->langchain-community<0.4.0,>=0.3.0->langchain_experimental==0.3.4) (0.16.0)\n",
      "Requirement already satisfied: annotated-types>=0.6.0 in ./.venv/lib/python3.13/site-packages (from pydantic<3.0.0,>=2.7.4->langchain<1.0.0,>=0.3.19->langchain-community<0.4.0,>=0.3.0->langchain_experimental==0.3.4) (0.7.0)\n",
      "Requirement already satisfied: pydantic-core==2.33.2 in ./.venv/lib/python3.13/site-packages (from pydantic<3.0.0,>=2.7.4->langchain<1.0.0,>=0.3.19->langchain-community<0.4.0,>=0.3.0->langchain_experimental==0.3.4) (2.33.2)\n",
      "Requirement already satisfied: typing-inspection>=0.4.0 in ./.venv/lib/python3.13/site-packages (from pydantic<3.0.0,>=2.7.4->langchain<1.0.0,>=0.3.19->langchain-community<0.4.0,>=0.3.0->langchain_experimental==0.3.4) (0.4.1)\n",
      "Requirement already satisfied: python-dotenv>=0.21.0 in ./.venv/lib/python3.13/site-packages (from pydantic-settings<3.0.0,>=2.4.0->langchain-community<0.4.0,>=0.3.0->langchain_experimental==0.3.4) (1.1.1)\n",
      "Requirement already satisfied: charset_normalizer<4,>=2 in ./.venv/lib/python3.13/site-packages (from requests<3,>=2->langchain-community<0.4.0,>=0.3.0->langchain_experimental==0.3.4) (3.4.3)\n",
      "Requirement already satisfied: urllib3<3,>=1.21.1 in ./.venv/lib/python3.13/site-packages (from requests<3,>=2->langchain-community<0.4.0,>=0.3.0->langchain_experimental==0.3.4) (2.5.0)\n",
      "Requirement already satisfied: mypy-extensions>=0.3.0 in ./.venv/lib/python3.13/site-packages (from typing-inspect<1,>=0.4.0->dataclasses-json<0.7,>=0.5.7->langchain-community<0.4.0,>=0.3.0->langchain_experimental==0.3.4) (1.1.0)\n",
      "Requirement already satisfied: sniffio>=1.1 in ./.venv/lib/python3.13/site-packages (from anyio->httpx<1,>=0.23.0->langsmith<0.4,>=0.1.125->langchain-community<0.4.0,>=0.3.0->langchain_experimental==0.3.4) (1.3.1)\n",
      "Downloading langchain_experimental-0.3.4-py3-none-any.whl (209 kB)\n",
      "Installing collected packages: langchain_experimental\n",
      "Successfully installed langchain_experimental-0.3.4\n"
     ]
    }
   ],
   "source": [
    "# 실험적인 패키지 (문맥을 파악해서 청크 분리)\n",
    "!pip install langchain_experimental==0.3.4"
   ]
  },
  {
   "cell_type": "code",
   "execution_count": 29,
   "id": "30c01cc2",
   "metadata": {},
   "outputs": [],
   "source": [
    "from langchain_experimental.text_splitter import SemanticChunker\n",
    "# embeding을 써야함\n",
    "from langchain_openai.embeddings import OpenAIEmbeddings\n",
    "\n",
    "text_splitter = SemanticChunker(\n",
    "  embeddings=OpenAIEmbeddings()\n",
    ")\n",
    "\n",
    "texts = text_splitter.split_documents(docs)"
   ]
  },
  {
   "cell_type": "code",
   "execution_count": 30,
   "id": "6a44b3b3",
   "metadata": {},
   "outputs": [
    {
     "name": "stdout",
     "output_type": "stream",
     "text": [
      "26\n",
      "Chunk Size: 335, Page Content: 지진(地震, 영어: earthquake, quake, tremor, temblor)은 지구 암석권 내부에서 갑작스럽게 에너지를 방출하면서 지진파를 만들어내며 지구 표면까지 흔들리는\n",
      "----------------------------------------------------------------------\n",
      "Chunk Size: 982, Page Content: 지진은 지구 표면의 땅을 흔들고 암반의 위치를 옮기거나 변성시켜 휘어지게 만든다. 큰 지진의 진앙이 바다 해역 상에 있다면 해저 지형의 변화로 쓰나미가 일어날 수도 있다. 또한 지\n",
      "----------------------------------------------------------------------\n",
      "Chunk Size: 1716, Page Content: 단층면은 단층면 표면에 마찰 저항을 늘리는 불규칙한 표면 혹은 애스패리티(돌기) 구조가 없을 때만 부드럽고 지진 없이 움직인다. 대부분의 단층면은 울퉁불퉁하고 이 때문에 단층은 스\n",
      "----------------------------------------------------------------------\n",
      "Chunk Size: 50, Page Content: === 지진 발생 빈도 ===\n",
      "\n",
      "전 세계에 한해 약 50만 건의 지진이 지진계에 관측된다.\n",
      "----------------------------------------------------------------------\n",
      "Chunk Size: 779, Page Content: 이 중 인간이 흔들림을 느낄 수 있는 지진은 약 10만 건이다. 소규모 지진이 주로 발생하는 지역은 엘살바도르, 멕시코, 과테말라, 칠레, 페루, 인도네시아, 필리핀, 이란, 파키\n",
      "----------------------------------------------------------------------\n",
      "Chunk Size: 3698, Page Content: 지진의 규모와 그 발생 빈도에 대한 자세한 통계는 미국 지질조사국에서 확인할 수 있다. 대지진의 수가 해마다 올라갔다거나 내려갔다는 변동에 대한 지적도 있는데, 이는 격렬한 지각 \n",
      "----------------------------------------------------------------------\n",
      "Chunk Size: 306, Page Content: 그 후, 사상한형으로 초동이 분포하는 지진은 수없이 발견되어, 한때는 단층지진설(單層地震說)이 유행하였다. 이에 대하여 1934년 이시모토 미시오(石本已四雄)는 마그마 관입설(ma\n",
      "----------------------------------------------------------------------\n",
      "Chunk Size: 1283, Page Content: 위와 같이 지진의 원인으로서는 단층지진설과 마그마 관입설이 있으나, 양쪽 다 하나의 가설만으로는 완전히 설명할 수 없다. === 단층 ===\n",
      "\n",
      "판 경계간 지진을 일으키는 단층은 크\n",
      "----------------------------------------------------------------------\n",
      "Chunk Size: 312, Page Content: 이런 경우의 예로 1957년 알래스카 지진, 1960년 칠레 지진, 2004년 수마트라 지진이 있으며 이들 모두 섭입대에서 일어난 지진이다. 주향이동단층에서 일어난 가장 큰 지진으\n",
      "----------------------------------------------------------------------\n",
      "Chunk Size: 1928, Page Content: 수렴 경계를 따라 섭입하는 단층면의 경사각은 매우 작으며 일반적으로 약 10도이다. 따라서 지구의 가장 부서지기 쉬운 지각면의 폭은 최대 약 50-100 km로 1964년 알래스카\n",
      "----------------------------------------------------------------------\n"
     ]
    }
   ],
   "source": [
    "print(len(texts))\n",
    "\n",
    "for text in texts[:10]:\n",
    "  print(f\"Chunk Size: {len(text.page_content)}, Page Content: {text.page_content[:100]}\")\n",
    "  print(\"-\" * 70)"
   ]
  }
 ],
 "metadata": {
  "kernelspec": {
   "display_name": ".venv",
   "language": "python",
   "name": "python3"
  },
  "language_info": {
   "codemirror_mode": {
    "name": "ipython",
    "version": 3
   },
   "file_extension": ".py",
   "mimetype": "text/x-python",
   "name": "python",
   "nbconvert_exporter": "python",
   "pygments_lexer": "ipython3",
   "version": "3.13.2"
  }
 },
 "nbformat": 4,
 "nbformat_minor": 5
}
