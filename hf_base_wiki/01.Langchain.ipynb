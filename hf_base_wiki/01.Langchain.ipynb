{
 "cells": [
  {
   "cell_type": "code",
   "execution_count": 8,
   "id": "864b4a81",
   "metadata": {},
   "outputs": [
    {
     "data": {
      "text/plain": [
       "True"
      ]
     },
     "execution_count": 8,
     "metadata": {},
     "output_type": "execute_result"
    }
   ],
   "source": [
    "from dotenv import load_dotenv\n",
    "\n",
    "load_dotenv()"
   ]
  },
  {
   "cell_type": "code",
   "execution_count": null,
   "id": "d882a141",
   "metadata": {},
   "outputs": [
    {
     "data": {
      "text/plain": [
       "AIMessage(content='\"졸려\"는 피로감을 느껴 잠이 오거나 자신이 졸린 상태를 나타내는 표현입니다. 일본어로 유사한 표현은 다음과 같습니다:\\n\\n1. **眠い (ねむい, nemui)** - 졸린, 잠이 온다는 의미입니다.\\n   - 사용할 때: 일반적으로 졸리거나 피곤한 상태를 나타낼 때 쓰입니다. 예를 들어, 수업 중이나 회의 중에 졸릴 때 사용합니다.\\n\\n2. **眠る (ねむる, nemuru)** - 자다, 잠을 자다라는 의미로, 졸린 상태에서 잠에 들어갈 때 쓰입니다.\\n   - 사용할 때: 졸음이 지속될 때, 실제로 잠을 자려고 할 때 사용합니다. 예를 들어, \"저녁에 잠을 잘 것이다\"라는 상황에서 사용할 수 있습니다.\\n\\n3. **うとうと (ウトウト, utouto)** - 졸린 상태에서 반쯤 자고 있는 상태를 나타낼 때 쓰이는 의태어입니다.\\n   - 사용할 때: 어떤 활동을 하면서도 졸려서 거의 잠에 빠져드는 상태를 묘사할 때 사용합니다. 예를 들어, 의자에 앉아 있다가 졸리는 경우에 \"ウトウトしている\"라고 표현할 수 있습니다.\\n\\n비교하자면, \"졸려\"는 감정을 직접적으로 표현하는 반면, 일본어 \"眠い\"는 슬프게 느껴진다고 표현할 수 있는 번역입니다. 또 \"眠る\"는 행동을 나타내며, \"うとうと\"는 졸리는 상태를 자세히 설명하는 표현입니다.', additional_kwargs={'refusal': None}, response_metadata={'token_usage': {'completion_tokens': 360, 'prompt_tokens': 58, 'total_tokens': 418, 'completion_tokens_details': {'accepted_prediction_tokens': 0, 'audio_tokens': 0, 'reasoning_tokens': 0, 'rejected_prediction_tokens': 0}, 'prompt_tokens_details': {'audio_tokens': 0, 'cached_tokens': 0}}, 'model_name': 'gpt-4o-mini-2024-07-18', 'system_fingerprint': 'fp_560af6e559', 'finish_reason': 'stop', 'logprobs': None}, id='run--ee65f7d9-2670-4ced-b7c4-56e1ce47430f-0', usage_metadata={'input_tokens': 58, 'output_tokens': 360, 'total_tokens': 418, 'input_token_details': {'audio': 0, 'cache_read': 0}, 'output_token_details': {'audio': 0, 'reasoning': 0}})"
      ]
     },
     "execution_count": 9,
     "metadata": {},
     "output_type": "execute_result"
    }
   ],
   "source": [
    "# pip install langchain==0.3.7\n",
    "from langchain_openai import ChatOpenAI\n",
    "\n",
    "llm = ChatOpenAI(model=\"gpt-4o-mini\")\n",
    "\n",
    "messages = [\n",
    "  (\"system\", \"사용자는 한글로 입력할거야 그 단어와 유사한 일본어들을 3개정도 가르쳐주고 어떨 때 그 단어가 쓰이는지 비교하면서 설명해줘\"),\n",
    "  (\"human\", \"졸려\")\n",
    "]\n",
    "\n",
    "result = llm.invoke(messages)\n",
    "result"
   ]
  },
  {
   "cell_type": "code",
   "execution_count": null,
   "id": "7372825d",
   "metadata": {},
   "outputs": [
    {
     "data": {
      "text/plain": [
       "'\"집\"이라는 단어에 유사한 일본어 단어들은 다음과 같습니다:\\n\\n1. **家 (いえ, ie)** - 일반적으로 집이나 가정을 의미합니다. 물리적인 집이나 건축물을 지칭할 때 사용됩니다.\\n2. **家族 (かぞく, kazoku)** - 가족을 의미합니다. \"집\"과 관련이 있지만, 사람들 사이의 관계를 강조할 때 사용됩니다.\\n3. **住宅 (じゅうたく, juutaku)** - 주거지를 의미하며, 집이 아닌 주거 단지를 지칭할 때 사용합니다. 일반적으로 더 공식적인 맥락에서 사용됩니다.\\n\\n이 단어들은 모두 \"집\"과 관련이 있지만 사용되는 맥락이 조금씩 다릅니다:\\n\\n- **家 (いえ)**: \"우리 집\"을 말할 때, \"私の家に行く\" (와타시노 이에 니 이쿠)처럼 물리적인 공간을 강조합니다.\\n- **家族 (かぞく)**: 친구 집에 가는 경우를 이야기 할 때 \"友達の家族に会う\" (톰하다치노 카조쿠니 아우)처럼 친구의 가족과 인연을 강조할 수 있습니다.\\n- **住宅 (じゅうたく)**: 좀 더 공식적인 상황에서 예를 들어 \"新しい住宅に引っ越す\" (아타라시이 주타쿠니 히코스)처럼 새로운 주거지를 옮길 때 사용되며, 일반적인 \"집\"이라는 보다 구체적이고 카테고리화된 의미를 갖습니다.\\n\\n따라서 \"우리 집에 간다\"와 \"친구 집에 간다\"는 경우, 물리적인 공간을 강조할 때 주로 \"家\"가 사용되고, 때로는 그 집에 있는 사람들을 이야기할 때 \"家族\"를 추가로 쓸 수 있습니다.'"
      ]
     },
     "execution_count": 11,
     "metadata": {},
     "output_type": "execute_result"
    }
   ],
   "source": [
    "# pip install langchain==0.3.19\n",
    "from langchain_core.messages import HumanMessage, SystemMessage, AIMessage\n",
    "\n",
    "messages = [\n",
    "  SystemMessage(content=\"사용자는 한글로 입력할거야 그 단어와 유사한 일본어들을 3개정도 가르쳐주고 어떨 때 그 단어가 쓰이는지 비교하면서 설명해줘\"),\n",
    "  HumanMessage(content=\"졸려\"),\n",
    "]\n",
    "\n",
    "result = llm.invoke(messages)\n",
    "result.content"
   ]
  },
  {
   "cell_type": "code",
   "execution_count": 12,
   "id": "f47dd153",
   "metadata": {},
   "outputs": [
    {
     "data": {
      "text/plain": [
       "'\"집\"이라는 단어에 유사한 일본어 단어들은 다음과 같습니다:\\n\\n1. **家 (いえ, ie)** - 일반적으로 집이나 가정을 의미합니다. 물리적인 집이나 건축물을 지칭할 때 사용됩니다.\\n2. **家族 (かぞく, kazoku)** - 가족을 의미합니다. \"집\"과 관련이 있지만, 사람들 사이의 관계를 강조할 때 사용됩니다.\\n3. **住宅 (じゅうたく, juutaku)** - 주거지를 의미하며, 집이 아닌 주거 단지를 지칭할 때 사용합니다. 일반적으로 더 공식적인 맥락에서 사용됩니다.\\n\\n이 단어들은 모두 \"집\"과 관련이 있지만 사용되는 맥락이 조금씩 다릅니다:\\n\\n- **家 (いえ)**: \"우리 집\"을 말할 때, \"私の家に行く\" (와타시노 이에 니 이쿠)처럼 물리적인 공간을 강조합니다.\\n- **家族 (かぞく)**: 친구 집에 가는 경우를 이야기 할 때 \"友達の家族に会う\" (톰하다치노 카조쿠니 아우)처럼 친구의 가족과 인연을 강조할 수 있습니다.\\n- **住宅 (じゅうたく)**: 좀 더 공식적인 상황에서 예를 들어 \"新しい住宅に引っ越す\" (아타라시이 주타쿠니 히코스)처럼 새로운 주거지를 옮길 때 사용되며, 일반적인 \"집\"이라는 보다 구체적이고 카테고리화된 의미를 갖습니다.\\n\\n따라서 \"우리 집에 간다\"와 \"친구 집에 간다\"는 경우, 물리적인 공간을 강조할 때 주로 \"家\"가 사용되고, 때로는 그 집에 있는 사람들을 이야기할 때 \"家族\"를 추가로 쓸 수 있습니다.'"
      ]
     },
     "execution_count": 12,
     "metadata": {},
     "output_type": "execute_result"
    }
   ],
   "source": [
    "from langchain_core.output_parsers import StrOutputParser\n",
    "\n",
    "parser = StrOutputParser()\n",
    "parser.invoke(result)"
   ]
  },
  {
   "cell_type": "code",
   "execution_count": 13,
   "id": "94ba6b1b",
   "metadata": {},
   "outputs": [
    {
     "data": {
      "text/plain": [
       "'\"우리 집에 간다\"와 \"친구 집에 간다\"는 한국어 문장으로, 각각 \"I\\'m going home\"과 \"I\\'m going to my friend\\'s house\"라는 의미를 가지고 있습니다. 이 두 문장에서 \"집\"은 중요한 역할을 합니다. \\n\\n일본어에서 유사한 표현은 다음과 같습니다:\\n\\n1. **私の家に行く (わたしのいえにいく) - 와타시노 이에니 이쿠**\\n   - 의미: \"내 집에 간다\"\\n   - 사용 예: 개인의 집이나 가족이 사는 집으로 돌아갈 때 사용합니다.\\n\\n2. **友達の家に行く (ともだちのいえにいく) - 토모다치노 이에니 이쿠**\\n   - 의미: \"친구 집에 간다\"\\n   - 사용 예: 친구의 집에 놀러 가거나 방문할 때 사용합니다.\\n\\n3. **実家に帰る (じっかにかえる) - 짓카니 카에루**\\n   - 의미: \"실집에 간다\" (주로 부모님 집)\\n   - 사용 예: 고향이나 부모님이 사는 집으로 돌아갈 때 사용하는 표현입니다. \\n\\n### 비교\\n- \"우리 집\"과 \"내 집\"은 모두 집이라는 의미를 가지고 있지만, 일본어에서는 \"私の家\"를 사용하여 소유를 명확히 설명합니다.\\n- \"친구 집\"에 해당하는 일본어 표현은 \"友達の家\"로, 친구라는 관계를 분명히 하고 있습니다. \\n- \"실집\"은 일본어에서 특별한 뉘앙스를 가지고 있으며, 주로 부모님과 관련된 집으로, 짧은 거리의 여행이 아니라 장기적인 귀환을 암시할 수 있습니다.\\n\\n이렇게 각 단어들은 각자의 맥락에 따라서 사용되며, 상대방에 대한 소속감이나 소유의 느낌을 전달합니다.'"
      ]
     },
     "execution_count": 13,
     "metadata": {},
     "output_type": "execute_result"
    }
   ],
   "source": [
    "chain = llm | parser\n",
    "chain.invoke(messages)"
   ]
  }
 ],
 "metadata": {
  "kernelspec": {
   "display_name": ".venv",
   "language": "python",
   "name": "python3"
  },
  "language_info": {
   "codemirror_mode": {
    "name": "ipython",
    "version": 3
   },
   "file_extension": ".py",
   "mimetype": "text/x-python",
   "name": "python",
   "nbconvert_exporter": "python",
   "pygments_lexer": "ipython3",
   "version": "3.13.2"
  }
 },
 "nbformat": 4,
 "nbformat_minor": 5
}
