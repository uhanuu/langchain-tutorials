{
 "cells": [
  {
   "cell_type": "markdown",
   "metadata": {},
   "source": [
    "##### Quiz) 위키피디아에서 제공되는 지진 데이터를 활용한 Q&A 챗봇을 만드시오.\n",
    "\n",
    "##### 조건)\n",
    "1. 거대 언어 모델(llm) : gpt-4o-mini\n",
    "1. 임베딩 모델 : BAAI/bge-m3\n",
    "1. 문서 : 위키피디아에서 제공하는 지진 내용 전체 (WikipediaLoader 사용, 한국어, doc_content_chars_max 40000)\n",
    "1. 텍스트 분리(splitter) : CharacterTextSplitter 사용 (chunk_size=1000, chunk_overlap=100)\n",
    "1. 벡터DB : Chroma\n",
    "1. 검색기(retriever) : 기본값으로 하되 최대 검색 청크 수 k=3 으로 설정\n",
    "1. 프롬프트 템플릿 : langchain-ai/retrieval-qa-chat 활용\n",
    "1. 출력 파서 : StrOutputParser"
   ]
  },
  {
   "cell_type": "markdown",
   "metadata": {},
   "source": [
    "##### 질문)\n",
    "1. 지진파의 종류에 대해서 알려줘\n",
    "1. 지금까지 있었던 지진 중 가장 규모가 큰 것은?\n",
    "1. 지진을 주제로 한 영화는 어떤 게 있어?"
   ]
  },
  {
   "cell_type": "markdown",
   "metadata": {},
   "source": [
    "##### 답변) 아래 내용이 포함되면 정답으로 간주\n",
    "1. P파, S파, 표면파\n",
    "1. 칠레 발디비아 지진\n",
    "1. 대지진, 일본 침몰, 2012"
   ]
  },
  {
   "cell_type": "code",
   "execution_count": 1,
   "metadata": {},
   "outputs": [
    {
     "name": "stderr",
     "output_type": "stream",
     "text": [
      "/Users/ryu/dev-study/llm/langchain/.venv/lib/python3.13/site-packages/tqdm/auto.py:21: TqdmWarning: IProgress not found. Please update jupyter and ipywidgets. See https://ipywidgets.readthedocs.io/en/stable/user_install.html\n",
      "  from .autonotebook import tqdm as notebook_tqdm\n"
     ]
    }
   ],
   "source": [
    "# 1. 거대 언어 모델(llm) : gpt-4o-mini\n",
    "from dotenv import load_dotenv\n",
    "from langchain_openai import ChatOpenAI\n",
    "\n",
    "load_dotenv()\n",
    "llm = ChatOpenAI(model=\"gpt-4o-mini\")"
   ]
  },
  {
   "cell_type": "code",
   "execution_count": 2,
   "metadata": {},
   "outputs": [],
   "source": [
    "# 2. 임베딩 모델 : BAAI/bge-m3\n",
    "from langchain_huggingface import HuggingFaceEmbeddings\n",
    "\n",
    "model_name = \"BAAI/bge-m3\"\n",
    "hf_embeddings = HuggingFaceEmbeddings(model_name=model_name)"
   ]
  },
  {
   "cell_type": "code",
   "execution_count": 3,
   "metadata": {},
   "outputs": [],
   "source": [
    "# 3. 문서 : 위키피디아에서 제공하는 지진 내용 전체 (WikipediaLoader 사용, 한국어, doc_content_chars_max 40000)\n",
    "from langchain_community.document_loaders import WikipediaLoader\n",
    "\n",
    "loader = WikipediaLoader(\n",
    "  query=\"지진\", \n",
    "  lang=\"ko\", \n",
    "  load_max_docs=1, \n",
    "  doc_content_chars_max=40000,\n",
    ")"
   ]
  },
  {
   "cell_type": "code",
   "execution_count": 4,
   "metadata": {},
   "outputs": [
    {
     "name": "stderr",
     "output_type": "stream",
     "text": [
      "Created a chunk of size 1268, which is longer than the specified 1000\n",
      "Created a chunk of size 1006, which is longer than the specified 1000\n",
      "Created a chunk of size 1451, which is longer than the specified 1000\n",
      "Created a chunk of size 2325, which is longer than the specified 1000\n",
      "Created a chunk of size 1052, which is longer than the specified 1000\n",
      "Created a chunk of size 1213, which is longer than the specified 1000\n",
      "Created a chunk of size 1260, which is longer than the specified 1000\n",
      "Created a chunk of size 1317, which is longer than the specified 1000\n",
      "Created a chunk of size 1082, which is longer than the specified 1000\n",
      "Created a chunk of size 1998, which is longer than the specified 1000\n",
      "Created a chunk of size 1141, which is longer than the specified 1000\n",
      "Created a chunk of size 1014, which is longer than the specified 1000\n"
     ]
    }
   ],
   "source": [
    "# 4. 텍스트 분리(splitter) : CharacterTextSplitter 사용 (chunk_size=1000, chunk_overlap=100)\n",
    "from langchain_text_splitters import CharacterTextSplitter\n",
    "\n",
    "text_splitter = CharacterTextSplitter(\n",
    "  chunk_size=1000, # 줄바꿈 기준으로 나누기 위해서 0으로 처리 하려고 했으나 0 이상이어야함\n",
    "  chunk_overlap=100\n",
    ")\n",
    "\n",
    "docs = loader.load_and_split(text_splitter=text_splitter)"
   ]
  },
  {
   "cell_type": "code",
   "execution_count": 5,
   "metadata": {},
   "outputs": [
    {
     "name": "stderr",
     "output_type": "stream",
     "text": [
      "Failed to send telemetry event ClientStartEvent: capture() takes 1 positional argument but 3 were given\n",
      "Failed to send telemetry event ClientCreateCollectionEvent: capture() takes 1 positional argument but 3 were given\n"
     ]
    }
   ],
   "source": [
    "# 5. 벡터DB : Chroma\n",
    "from langchain_chroma import Chroma\n",
    "db = Chroma.from_documents(documents=docs, embedding=hf_embeddings)"
   ]
  },
  {
   "cell_type": "code",
   "execution_count": 6,
   "metadata": {},
   "outputs": [],
   "source": [
    "# 6. 검색기(retriever) : 기본값으로 하되 최대 검색 청크 수 k=3 으로 설정\n",
    "retriever = db.as_retriever(\n",
    "  search_type=\"mmr\",\n",
    "  search_kwargs={\"k\": 3, \"fetch_k\": 20, \"lambda_mult\": 0.5}\n",
    ")"
   ]
  },
  {
   "cell_type": "code",
   "execution_count": 7,
   "metadata": {},
   "outputs": [
    {
     "name": "stderr",
     "output_type": "stream",
     "text": [
      "/Users/ryu/dev-study/llm/langchain/.venv/lib/python3.13/site-packages/langsmith/client.py:272: LangSmithMissingAPIKeyWarning: API key must be provided when using hosted LangSmith API\n",
      "  warnings.warn(\n"
     ]
    }
   ],
   "source": [
    "# 7. 프롬프트 템플릿 : langchain-ai/retrieval-qa-chat 활용\n",
    "from langchain import hub\n",
    "# https://smith.langchain.com/hub/langchain-ai/retrieval-qa-chat\n",
    "prompt_template = hub.pull(\"langchain-ai/retrieval-qa-chat\")"
   ]
  },
  {
   "cell_type": "code",
   "execution_count": 8,
   "metadata": {},
   "outputs": [],
   "source": [
    "# 8. 출력 파서 : StrOutputParser\n",
    "from langchain_core.output_parsers import StrOutputParser\n",
    "parser = StrOutputParser()"
   ]
  },
  {
   "cell_type": "code",
   "execution_count": 9,
   "metadata": {},
   "outputs": [],
   "source": [
    "from langchain_core.runnables import RunnablePassthrough\n",
    "\n",
    "data = {\n",
    "  \"context\" : retriever,\n",
    "  \"input\" : RunnablePassthrough()\n",
    "}\n",
    "\n",
    "# Chain\n",
    "chain = data | prompt_template | llm | parser"
   ]
  },
  {
   "cell_type": "code",
   "execution_count": null,
   "metadata": {},
   "outputs": [
    {
     "data": {
      "text/plain": [
       "'지진을 주제로 한 영화로는 다음과 같은 작품들이 있습니다:\\n\\n1. 《대지진》(1974년) - 1971년 샌페르난도 지진에서 영감을 받아 만들어진 영화입니다.\\n2. 《일본 침몰》(1973년) - 고마쓰 사쿄의 소설을 원작으로 한 영화입니다.\\n3. 《2012》(2009년) - 롤란트 에머리히 감독의 영화로, 대규모 지진과 재난을 다루고 있습니다.\\n\\n이 외에도 지진을 다룬 다양한 영화들이 있습니다.'"
      ]
     },
     "execution_count": 11,
     "metadata": {},
     "output_type": "execute_result"
    }
   ],
   "source": [
    "# 결과 확인\n",
    "# 질문)\n",
    "# 1. 지진파의 종류에 대해서 알려줘\n",
    "# result = chain.invoke(\"지진파의 종류에 대해서 알려줘\")\n",
    "# 2. 지금까지 있었던 지진 중 가장 규모가 큰 것은?\n",
    "# result = chain.invoke(\"지금까지 있었던 지진 중 가장 규모가 큰 것은?\")\n",
    "# 3. 지진을 주제로 한 영화는 어떤 게 있어?\n",
    "result = chain.invoke(\"지진을 주제로 한 영화는 어떤 게 있어?\")\n",
    "\n",
    "# 답변)\n",
    "result\n",
    "# 1. P파, S파, 표면파 (OK)\n",
    "# 2. 칠레 발디비아 지진 (OK)\n",
    "# 3. 대지진, 일본 침몰, 2012 (OK)"
   ]
  }
 ],
 "metadata": {
  "kernelspec": {
   "display_name": ".venv",
   "language": "python",
   "name": "python3"
  },
  "language_info": {
   "codemirror_mode": {
    "name": "ipython",
    "version": 3
   },
   "file_extension": ".py",
   "mimetype": "text/x-python",
   "name": "python",
   "nbconvert_exporter": "python",
   "pygments_lexer": "ipython3",
   "version": "3.13.2"
  }
 },
 "nbformat": 4,
 "nbformat_minor": 2
}
