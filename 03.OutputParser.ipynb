{
 "cells": [
  {
   "cell_type": "code",
   "execution_count": 1,
   "id": "7cacfec8",
   "metadata": {},
   "outputs": [
    {
     "data": {
      "text/plain": [
       "True"
      ]
     },
     "execution_count": 1,
     "metadata": {},
     "output_type": "execute_result"
    }
   ],
   "source": [
    "from dotenv import load_dotenv\n",
    "load_dotenv()"
   ]
  },
  {
   "cell_type": "code",
   "execution_count": 5,
   "id": "fe21977e",
   "metadata": {},
   "outputs": [],
   "source": [
    "from langchain_openai import ChatOpenAI\n",
    "from langchain_core.prompts import PromptTemplate\n",
    "\n",
    "llm = ChatOpenAI(model=\"gpt-4o-mini\")\n",
    "prompt_template = PromptTemplate.from_template(\n",
    "  \"입력한 단어에 대해 간단히 설명하세요 : {word}\"\n",
    ")"
   ]
  },
  {
   "cell_type": "code",
   "execution_count": null,
   "id": "ff3f5c4d",
   "metadata": {},
   "outputs": [],
   "source": [
    "from langchain_core.output_parsers import StrOutputParser\n",
    "\n",
    "parser = StrOutputParser()\n",
    "\n",
    "chain = prompt_template | llm | parser\n",
    "chain.invoke({\"word\": \"병원\"})"
   ]
  },
  {
   "cell_type": "code",
   "execution_count": 10,
   "id": "f891c3a2",
   "metadata": {},
   "outputs": [
    {
     "data": {
      "text/plain": [
       "'Return a JSON object.'"
      ]
     },
     "execution_count": 10,
     "metadata": {},
     "output_type": "execute_result"
    }
   ],
   "source": [
    "from langchain_core.output_parsers import JsonOutputParser\n",
    "\n",
    "parser = JsonOutputParser()\n",
    "parser.get_format_instructions()"
   ]
  },
  {
   "cell_type": "code",
   "execution_count": null,
   "id": "f034ce1b",
   "metadata": {},
   "outputs": [
    {
     "data": {
      "text/plain": [
       "{'관련_단어': ['의사', '간호사', '진료', '치료', '환자', '검사', '약국', '수술', '응급실', '상담']}"
      ]
     },
     "execution_count": 12,
     "metadata": {},
     "output_type": "execute_result"
    }
   ],
   "source": [
    "prompt_template = PromptTemplate(\n",
    "  template=\"\"\"\n",
    "  입력한 단어와 관련 있는 단어를 알려주세요.\n",
    "  - 제약 사항: {format_instructions}\n",
    "  - 입력 단어: {word}\n",
    "  \"\"\",\n",
    "  # 필수 입력값\n",
    "  input_variables=[\"word\"],\n",
    "  # 미리 특정값을 항당해서 사용자가 체인을 사용할 때 직접 익력하지 않아도 되는값\n",
    "  partial_variables={\"format_instructions\" : parser.get_format_instructions()}\n",
    ")\n",
    "\n",
    "chain = prompt_template | llm | parser\n",
    "chain.invoke({\"word\":\"병원\"})"
   ]
  },
  {
   "cell_type": "code",
   "execution_count": 13,
   "id": "678faf29",
   "metadata": {},
   "outputs": [
    {
     "data": {
      "text/plain": [
       "'Your response should be a list of comma separated values, eg: `foo, bar, baz` or `foo,bar,baz`'"
      ]
     },
     "execution_count": 13,
     "metadata": {},
     "output_type": "execute_result"
    }
   ],
   "source": [
    "from langchain_core.output_parsers import CommaSeparatedListOutputParser\n",
    "parser = CommaSeparatedListOutputParser()\n",
    "parser.get_format_instructions()"
   ]
  },
  {
   "cell_type": "code",
   "execution_count": 14,
   "id": "d2241dec",
   "metadata": {},
   "outputs": [
    {
     "data": {
      "text/plain": [
       "['인간', '사람', '생명', '사회', '문화', '감정', '지능', '관계', '행동', '윤리']"
      ]
     },
     "execution_count": 14,
     "metadata": {},
     "output_type": "execute_result"
    }
   ],
   "source": [
    "prompt_template = PromptTemplate(\n",
    "  template=\"\"\"\n",
    "  입력한 단어와 관련 있는 단어를 알려주세요.\n",
    "  - 제약 사항: {format_instructions}\n",
    "  - 입력 단어: {word}\n",
    "  \"\"\",\n",
    "  # 필수 입력값\n",
    "  input_variables=[\"word\"],\n",
    "  # 미리 특정값을 항당해서 사용자가 체인을 사용할 때 직접 익력하지 않아도 되는값\n",
    "  partial_variables={\"format_instructions\" : parser.get_format_instructions()}\n",
    ")\n",
    "\n",
    "chain = prompt_template | llm | parser\n",
    "chain.invoke({\"word\":\"인간\"})"
   ]
  }
 ],
 "metadata": {
  "kernelspec": {
   "display_name": ".venv",
   "language": "python",
   "name": "python3"
  },
  "language_info": {
   "codemirror_mode": {
    "name": "ipython",
    "version": 3
   },
   "file_extension": ".py",
   "mimetype": "text/x-python",
   "name": "python",
   "nbconvert_exporter": "python",
   "pygments_lexer": "ipython3",
   "version": "3.13.2"
  }
 },
 "nbformat": 4,
 "nbformat_minor": 5
}
